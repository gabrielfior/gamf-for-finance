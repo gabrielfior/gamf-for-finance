{
 "cells": [
  {
   "cell_type": "markdown",
   "metadata": {},
   "source": [
    "# Next steps\n",
    "\n",
    "- Collect training data\n",
    "\n",
    "    - Using yahoo tickers, get the daily time series between (today()-13months, today - 1month) for 100 examples. It should be a simple array of size (365,). Also get data after 1 week after end of timeseries.\n",
    "    - For each array, classify if it is a winner or loser.\n",
    "    \n",
    "\n",
    "- Traing imaging neural network\n",
    "- Test on test set"
   ]
  },
  {
   "cell_type": "code",
   "execution_count": 1,
   "metadata": {},
   "outputs": [],
   "source": [
    "import matplotlib.pyplot as plt\n",
    "from mpl_toolkits.axes_grid1 import ImageGrid\n",
    "from pyts.image import GramianAngularField\n",
    "from pyts.datasets import load_gunpoint,load_basic_motions\n",
    "import numpy as np\n",
    "import datetime\n",
    "import yfinance as yf\n",
    "import pandas as pd\n",
    "\n",
    "# Parameters\n",
    "X, _, _, _ = load_gunpoint(return_X_y=True)"
   ]
  },
  {
   "cell_type": "code",
   "execution_count": 3,
   "metadata": {},
   "outputs": [],
   "source": [
    "# Transform the time series into Gramian Angular Fields\n",
    "gasf = GramianAngularField(image_size=24, method='summation')\n",
    "X_gasf = gasf.fit_transform(X)\n",
    "gadf = GramianAngularField(image_size=24, method='difference')\n",
    "X_gadf = gadf.fit_transform(X)"
   ]
  },
  {
   "cell_type": "code",
   "execution_count": 4,
   "metadata": {},
   "outputs": [
    {
     "name": "stderr",
     "output_type": "stream",
     "text": [
      "<ipython-input-4-d8bf14d69725>:17: MatplotlibDeprecationWarning: Since 3.2, mpl_toolkits's own colorbar implementation is deprecated; it will be removed two minor releases later.  Set the 'mpl_toolkits.legacy_colorbar' rcParam to False to use Matplotlib's default colorbar implementation and suppress this deprecation warning.\n",
      "  ax.cax.colorbar(im)\n",
      "c:\\users\\d91421\\miniconda3\\envs\\finance_ml\\lib\\site-packages\\mpl_toolkits\\axes_grid1\\axes_grid.py:46: MatplotlibDeprecationWarning: \n",
      "The mpl_toolkits.axes_grid1.colorbar module was deprecated in Matplotlib 3.2 and will be removed two minor releases later. Use matplotlib.colorbar instead.\n",
      "  from .colorbar import Colorbar\n"
     ]
    },
    {
     "data": {
      "image/png": "[encoded data removed]",
      "text/plain": [
       "<Figure size 576x288 with 4 Axes>"
      ]
     },
     "metadata": {
      "needs_background": "light"
     },
     "output_type": "display_data"
    }
   ],
   "source": [
    "# Show the images for the first time series\n",
    "fig = plt.figure(figsize=(8, 4))\n",
    "grid = ImageGrid(fig, 111,\n",
    "                 nrows_ncols=(1, 2),\n",
    "                 axes_pad=0.15,\n",
    "                 share_all=True,\n",
    "                 cbar_location=\"right\",\n",
    "                 cbar_mode=\"single\",\n",
    "                 cbar_size=\"7%\",\n",
    "                 cbar_pad=0.3,\n",
    "                 )\n",
    "images = [X_gasf[-1], X_gadf[1]]\n",
    "titles = ['Summation', 'Difference']\n",
    "for image, title, ax in zip(images, titles, grid):\n",
    "    im = ax.imshow(image, cmap='rainbow', origin='lower')\n",
    "    ax.set_title(title, fontdict={'fontsize': 12})\n",
    "ax.cax.colorbar(im)\n",
    "ax.cax.toggle_label(True)\n",
    "plt.suptitle('Gramian Angular Fields', y=0.98, fontsize=16)\n",
    "plt.show()"
   ]
  },
  {
   "cell_type": "code",
   "execution_count": 5,
   "metadata": {},
   "outputs": [
    {
     "ename": "NameError",
     "evalue": "name 'aa' is not defined",
     "output_type": "error",
     "traceback": [
      "\u001b[1;31m---------------------------------------------------------------------------\u001b[0m",
      "\u001b[1;31mNameError\u001b[0m                                 Traceback (most recent call last)",
      "\u001b[1;32m<ipython-input-5-37123ce667f5>\u001b[0m in \u001b[0;36m<module>\u001b[1;34m\u001b[0m\n\u001b[0;32m      1\u001b[0m \u001b[1;31m# Transform the time series into Gramian Angular Fields\u001b[0m\u001b[1;33m\u001b[0m\u001b[1;33m\u001b[0m\u001b[1;33m\u001b[0m\u001b[0m\n\u001b[0;32m      2\u001b[0m \u001b[0mgasf\u001b[0m \u001b[1;33m=\u001b[0m \u001b[0mGramianAngularField\u001b[0m\u001b[1;33m(\u001b[0m\u001b[0mimage_size\u001b[0m\u001b[1;33m=\u001b[0m\u001b[1;36m1\u001b[0m\u001b[1;33m,\u001b[0m \u001b[0mmethod\u001b[0m\u001b[1;33m=\u001b[0m\u001b[1;34m'summation'\u001b[0m\u001b[1;33m)\u001b[0m\u001b[1;33m\u001b[0m\u001b[1;33m\u001b[0m\u001b[0m\n\u001b[1;32m----> 3\u001b[1;33m \u001b[0mX_gasf\u001b[0m \u001b[1;33m=\u001b[0m \u001b[0mgasf\u001b[0m\u001b[1;33m.\u001b[0m\u001b[0mfit_transform\u001b[0m\u001b[1;33m(\u001b[0m\u001b[0maa\u001b[0m\u001b[1;33m)\u001b[0m\u001b[1;33m\u001b[0m\u001b[1;33m\u001b[0m\u001b[0m\n\u001b[0m",
      "\u001b[1;31mNameError\u001b[0m: name 'aa' is not defined"
     ]
    }
   ],
   "source": [
    "# Transform the time series into Gramian Angular Fields\n",
    "gasf = GramianAngularField(image_size=1, method='summation')\n",
    "X_gasf = gasf.fit_transform(aa)"
   ]
  },
  {
   "cell_type": "code",
   "execution_count": 9,
   "metadata": {},
   "outputs": [
    {
     "name": "stderr",
     "output_type": "stream",
     "text": [
      "<ipython-input-9-774e038ac2f1>:17: MatplotlibDeprecationWarning: Since 3.2, mpl_toolkits's own colorbar implementation is deprecated; it will be removed two minor releases later.  Set the 'mpl_toolkits.legacy_colorbar' rcParam to False to use Matplotlib's default colorbar implementation and suppress this deprecation warning.\n",
      "  ax.cax.colorbar(im)\n"
     ]
    },
    {
     "data": {
      "image/png": "[encoded data removed]",
      "text/plain": [
       "<Figure size 576x288 with 4 Axes>"
      ]
     },
     "metadata": {
      "needs_background": "light"
     },
     "output_type": "display_data"
    }
   ],
   "source": [
    "# Show the images for the first time series\n",
    "fig = plt.figure(figsize=(8, 4))\n",
    "grid = ImageGrid(fig, 111,\n",
    "                 nrows_ncols=(1, 2),\n",
    "                 axes_pad=0.15,\n",
    "                 share_all=True,\n",
    "                 cbar_location=\"right\",\n",
    "                 cbar_mode=\"single\",\n",
    "                 cbar_size=\"7%\",\n",
    "                 cbar_pad=0.3,\n",
    "                 )\n",
    "images = [X_gasf[0]]\n",
    "titles = ['Summation', 'Difference']\n",
    "for image, title, ax in zip(images, titles, grid):\n",
    "    im = ax.imshow(image, cmap='rainbow', origin='lower')\n",
    "    ax.set_title(title, fontdict={'fontsize': 12})\n",
    "ax.cax.colorbar(im)\n",
    "ax.cax.toggle_label(True)\n",
    "plt.suptitle('Gramian Angular Fields', y=0.98, fontsize=16)\n",
    "plt.show()"
   ]
  },
  {
   "cell_type": "code",
   "execution_count": 10,
   "metadata": {},
   "outputs": [],
   "source": [
    "X2, _, _, _ = load_basic_motions(return_X_y=True)"
   ]
  },
  {
   "cell_type": "code",
   "execution_count": 11,
   "metadata": {},
   "outputs": [
    {
     "data": {
      "text/plain": [
       "'\\nwe would have something like X[n_assets, timeseries], so that:\\nX[0] = timeseries of google, e.g. from last month - first point is price at 01.09.2020, second is 02.09.2020, and last matches \\nyesterday.\\nX[1] = timeseries from facebook\\n'"
      ]
     },
     "execution_count": 11,
     "metadata": {},
     "output_type": "execute_result"
    }
   ],
   "source": [
    "'''\n",
    "we would have something like X[n_assets, timeseries], so that:\n",
    "X[0] = timeseries of google, e.g. from last month - first point is price at 01.09.2020, second is 02.09.2020, and last matches \n",
    "yesterday.\n",
    "X[1] = timeseries from facebook\n",
    "'''"
   ]
  },
  {
   "cell_type": "code",
   "execution_count": 12,
   "metadata": {},
   "outputs": [],
   "source": [
    "def get_timeseries(ticker):\n",
    "    return np.random.random"
   ]
  },
  {
   "cell_type": "markdown",
   "metadata": {},
   "source": [
    "### Using yahoo data"
   ]
  },
  {
   "cell_type": "code",
   "execution_count": 13,
   "metadata": {},
   "outputs": [],
   "source": [
    "deltatime = datetime.timedelta(365) #d\n",
    "start = datetime.date.today() - deltatime\n",
    "end = datetime.date.today() - datetime.timedelta(1)"
   ]
  },
  {
   "cell_type": "code",
   "execution_count": 14,
   "metadata": {},
   "outputs": [
    {
     "name": "stdout",
     "output_type": "stream",
     "text": [
      "[*********************100%***********************]  2 of 2 completed\n"
     ]
    }
   ],
   "source": [
    "#data = yf.download([\"SPY\",\"AAPL\"], start=\"2019-01-01\", end=\"2017-04-30\",group_by=\"ticker\", threads=4)\n",
    "data = yf.download([\"SPY\",\"AAPL\"], start=start, end=end,group_by=\"ticker\", threads=4)"
   ]
  },
  {
   "cell_type": "code",
   "execution_count": 15,
   "metadata": {},
   "outputs": [],
   "source": [
    "# divide today() - 1year - 1 day -> today() - 1day, predict today\n",
    "# try to predict closing price of today"
   ]
  },
  {
   "cell_type": "code",
   "execution_count": 63,
   "metadata": {},
   "outputs": [],
   "source": [
    "def get_data_for_ticker(ticker,lookahed=7, previous_days=30):\n",
    "            \n",
    "    start_ticker = datetime.date.today() - datetime.timedelta(previous_days) - datetime.timedelta(lookahed)\n",
    "    end_ticker = datetime.date.today()\n",
    "    data = yf.download(ticker, start=start, end=end_ticker,group_by=\"ticker\")\n",
    "\n",
    "    #return data[:-1],data.iloc[-1]\n",
    "    return data"
   ]
  },
  {
   "cell_type": "code",
   "execution_count": 19,
   "metadata": {},
   "outputs": [
    {
     "name": "stdout",
     "output_type": "stream",
     "text": [
      "[*********************100%***********************]  1 of 1 completed\n"
     ]
    }
   ],
   "source": [
    "a,b = get_data_for_ticker('SPY')"
   ]
  },
  {
   "cell_type": "code",
   "execution_count": 20,
   "metadata": {},
   "outputs": [
    {
     "data": {
      "text/plain": [
       "Open         3.631300e+02\n",
       "High         3.631600e+02\n",
       "Low          3.614800e+02\n",
       "Close        3.626600e+02\n",
       "Adj Close    3.626600e+02\n",
       "Volume       4.533090e+07\n",
       "Name: 2020-11-25 00:00:00, dtype: float64"
      ]
     },
     "execution_count": 20,
     "metadata": {},
     "output_type": "execute_result"
    }
   ],
   "source": [
    "a.iloc[-1]"
   ]
  },
  {
   "cell_type": "code",
   "execution_count": 21,
   "metadata": {},
   "outputs": [
    {
     "data": {
      "text/plain": [
       "Open         3.638400e+02\n",
       "High         3.641800e+02\n",
       "Low          3.625800e+02\n",
       "Close        3.636700e+02\n",
       "Adj Close    3.636700e+02\n",
       "Volume       2.851410e+07\n",
       "Name: 2020-11-27 00:00:00, dtype: float64"
      ]
     },
     "execution_count": 21,
     "metadata": {},
     "output_type": "execute_result"
    }
   ],
   "source": [
    "b"
   ]
  },
  {
   "cell_type": "code",
   "execution_count": 22,
   "metadata": {},
   "outputs": [],
   "source": [
    "# now we want to get the image"
   ]
  },
  {
   "cell_type": "code",
   "execution_count": 23,
   "metadata": {},
   "outputs": [],
   "source": [
    "XXX = a['Close'].values.reshape(-1,1)"
   ]
  },
  {
   "cell_type": "code",
   "execution_count": 24,
   "metadata": {},
   "outputs": [],
   "source": [
    "# Transform the time series into Gramian Angular Fields\n",
    "gasf = GramianAngularField(image_size=1, method='summation')\n",
    "X_gasf = gasf.fit_transform(XXX)"
   ]
  },
  {
   "cell_type": "code",
   "execution_count": 25,
   "metadata": {},
   "outputs": [
    {
     "data": {
      "text/plain": [
       "<matplotlib.image.AxesImage at 0x1f91d7cf880>"
      ]
     },
     "execution_count": 25,
     "metadata": {},
     "output_type": "execute_result"
    },
    {
     "data": {
      "image/png": "[encoded data removed]",
      "text/plain": [
       "<Figure size 432x288 with 1 Axes>"
      ]
     },
     "metadata": {
      "needs_background": "light"
     },
     "output_type": "display_data"
    }
   ],
   "source": [
    "plt.imshow(X_gasf)"
   ]
  },
  {
   "cell_type": "code",
   "execution_count": 26,
   "metadata": {},
   "outputs": [
    {
     "data": {
      "text/plain": [
       "(251, 1, 1)"
      ]
     },
     "execution_count": 26,
     "metadata": {},
     "output_type": "execute_result"
    }
   ],
   "source": [
    "X_gasf.shape"
   ]
  },
  {
   "cell_type": "markdown",
   "metadata": {},
   "source": [
    "## Generating GAMF from random data"
   ]
  },
  {
   "cell_type": "code",
   "execution_count": 27,
   "metadata": {},
   "outputs": [
    {
     "name": "stdout",
     "output_type": "stream",
     "text": [
      "(100,) (1, 100)\n"
     ]
    }
   ],
   "source": [
    "X = np.random.rand(100)\n",
    "Xres = X.reshape(1, -1)\n",
    "print (X.shape,Xres.shape)"
   ]
  },
  {
   "cell_type": "code",
   "execution_count": 28,
   "metadata": {},
   "outputs": [
    {
     "name": "stdout",
     "output_type": "stream",
     "text": [
      "(1, 16, 16)\n"
     ]
    }
   ],
   "source": [
    "gasf = GramianAngularField(image_size=16, method='s')\n",
    "X_gasf = gasf.fit_transform(Xres)\n",
    "print (X_gasf.shape)"
   ]
  },
  {
   "cell_type": "code",
   "execution_count": 29,
   "metadata": {},
   "outputs": [
    {
     "data": {
      "text/plain": [
       "<matplotlib.image.AxesImage at 0x1f91d62e850>"
      ]
     },
     "execution_count": 29,
     "metadata": {},
     "output_type": "execute_result"
    },
    {
     "data": {
      "image/png": "[encoded data removed]",
      "text/plain": [
       "<Figure size 432x288 with 1 Axes>"
      ]
     },
     "metadata": {
      "needs_background": "light"
     },
     "output_type": "display_data"
    }
   ],
   "source": [
    "plt.imshow(X_gasf[0])"
   ]
  },
  {
   "cell_type": "code",
   "execution_count": 30,
   "metadata": {},
   "outputs": [
    {
     "data": {
      "image/png": "[encoded data removed]",
      "text/plain": [
       "<Figure size 432x288 with 1 Axes>"
      ]
     },
     "metadata": {
      "needs_background": "light"
     },
     "output_type": "display_data"
    }
   ],
   "source": [
    "plt.plot(X)\n",
    "plt.show()"
   ]
  },
  {
   "cell_type": "code",
   "execution_count": 31,
   "metadata": {},
   "outputs": [],
   "source": [
    "assert X.shape == (len(X),)"
   ]
  },
  {
   "cell_type": "code",
   "execution_count": 32,
   "metadata": {},
   "outputs": [],
   "source": [
    "def get_gamf_from_time_series(items,image_size=32,method='summation'):\n",
    "    # prepare items from time series\n",
    "    assert items.shape == (len(items),)\n",
    "    Xres = X.reshape(1, -1)\n",
    "    \n",
    "    gasf = GramianAngularField(image_size=image_size, method=method)\n",
    "    X_gasf = gasf.fit_transform(Xres)\n",
    "    return X_gasf"
   ]
  },
  {
   "cell_type": "code",
   "execution_count": 34,
   "metadata": {},
   "outputs": [
    {
     "data": {
      "text/plain": [
       "<matplotlib.image.AxesImage at 0x1f91e97c8e0>"
      ]
     },
     "execution_count": 34,
     "metadata": {},
     "output_type": "execute_result"
    },
    {
     "data": {
      "image/png": "[encoded data removed]",
      "text/plain": [
       "<Figure size 432x288 with 1 Axes>"
      ]
     },
     "metadata": {
      "needs_background": "light"
     },
     "output_type": "display_data"
    }
   ],
   "source": [
    "plt.imshow(get_gamf_from_time_series(X)[0])"
   ]
  },
  {
   "cell_type": "markdown",
   "metadata": {},
   "source": [
    "## Playing with higher dimensions"
   ]
  },
  {
   "cell_type": "code",
   "execution_count": 35,
   "metadata": {},
   "outputs": [
    {
     "name": "stdout",
     "output_type": "stream",
     "text": [
      "(4, 100) (1, 400)\n"
     ]
    }
   ],
   "source": [
    "X = np.random.rand(4,100)\n",
    "Xres = X.reshape(1, -1)\n",
    "print (X.shape,Xres.shape)"
   ]
  },
  {
   "cell_type": "code",
   "execution_count": 36,
   "metadata": {},
   "outputs": [
    {
     "name": "stdout",
     "output_type": "stream",
     "text": [
      "(4, 10, 10)\n"
     ]
    }
   ],
   "source": [
    "gasf = GramianAngularField(image_size=10, method='s')\n",
    "#X_gasf = gasf.fit_transform(Xres)\n",
    "X_gasf = gasf.fit_transform(X)\n",
    "print (X_gasf.shape)"
   ]
  },
  {
   "cell_type": "code",
   "execution_count": 37,
   "metadata": {},
   "outputs": [
    {
     "data": {
      "text/plain": [
       "<matplotlib.image.AxesImage at 0x1f920d4c400>"
      ]
     },
     "execution_count": 37,
     "metadata": {},
     "output_type": "execute_result"
    },
    {
     "data": {
      "image/png": "[encoded data removed]",
      "text/plain": [
       "<Figure size 432x288 with 1 Axes>"
      ]
     },
     "metadata": {
      "needs_background": "light"
     },
     "output_type": "display_data"
    }
   ],
   "source": [
    "plt.imshow(X_gasf[-1])"
   ]
  },
  {
   "cell_type": "code",
   "execution_count": 38,
   "metadata": {},
   "outputs": [],
   "source": [
    "def get_gamf_4d_from_time_series(array,image_size=32,method='summation'):    \n",
    "    \n",
    "    # array should be e.g. (4,100), i.e. (n_features, n_timestamps)\n",
    "    gasf = GramianAngularField(image_size=image_size, method=method)\n",
    "    X_gasf = gasf.fit_transform(array)\n",
    "    return X_gasf"
   ]
  },
  {
   "cell_type": "markdown",
   "metadata": {},
   "source": [
    "## Final test with SPY time series"
   ]
  },
  {
   "cell_type": "code",
   "execution_count": 58,
   "metadata": {},
   "outputs": [
    {
     "data": {
      "text/plain": [
       "Open         3.638400e+02\n",
       "High         3.641800e+02\n",
       "Low          3.625800e+02\n",
       "Close        3.636700e+02\n",
       "Adj Close    3.636700e+02\n",
       "Volume       2.851410e+07\n",
       "Name: 2020-11-27 00:00:00, dtype: float64"
      ]
     },
     "execution_count": 58,
     "metadata": {},
     "output_type": "execute_result"
    }
   ],
   "source": [
    "b"
   ]
  },
  {
   "cell_type": "code",
   "execution_count": 45,
   "metadata": {},
   "outputs": [
    {
     "name": "stdout",
     "output_type": "stream",
     "text": [
      "(251,) (251,)\n"
     ]
    }
   ],
   "source": [
    "#plt.imshow(get_gamf_from_time_series(X)[0])\n",
    "adj_close_values = a['Close'].values\n",
    "low_values = a['Low'].values\n",
    "\n",
    "print (adj_close_values.shape, low_values.shape)"
   ]
  },
  {
   "cell_type": "code",
   "execution_count": 56,
   "metadata": {},
   "outputs": [
    {
     "name": "stdout",
     "output_type": "stream",
     "text": [
      "(2, 251)\n"
     ]
    }
   ],
   "source": [
    "# reshape, show image\n",
    "#get_gamf_4d_from_time_series()\n",
    "print (np.vstack([adj_close_values,low_values]).shape)\n",
    "stacked = np.vstack([adj_close_values,low_values])\n",
    "image = get_gamf_4d_from_time_series(stacked,method='difference')"
   ]
  },
  {
   "cell_type": "code",
   "execution_count": 57,
   "metadata": {},
   "outputs": [
    {
     "data": {
      "text/plain": [
       "<matplotlib.image.AxesImage at 0x1f921ea12e0>"
      ]
     },
     "execution_count": 57,
     "metadata": {},
     "output_type": "execute_result"
    },
    {
     "data": {
      "image/png": "[encoded data removed]",
      "text/plain": [
       "<Figure size 432x288 with 1 Axes>"
      ]
     },
     "metadata": {
      "needs_background": "light"
     },
     "output_type": "display_data"
    }
   ],
   "source": [
    "plt.imshow(image[1])"
   ]
  },
  {
   "cell_type": "code",
   "execution_count": 105,
   "metadata": {},
   "outputs": [
    {
     "data": {
      "text/plain": [
       "True"
      ]
     },
     "execution_count": 105,
     "metadata": {},
     "output_type": "execute_result"
    }
   ],
   "source": [
    "type([1,2,3]) == list"
   ]
  },
  {
   "cell_type": "markdown",
   "metadata": {},
   "source": [
    "# Fine-tuning get_data method"
   ]
  },
  {
   "cell_type": "code",
   "execution_count": 107,
   "metadata": {},
   "outputs": [],
   "source": [
    "def get_data_for_ticker(ticker, start=datetime.datetime.today(), lookahed_days=7, previous_days=30):\n",
    "    \n",
    "    def process_single_df(df):\n",
    "        #return data[:-1],data.iloc[-1]\n",
    "        # ToDo - Return data, true/false if increased/decreased, by how much adj close\n",
    "        data_lookahed = data[data.index >= pd.Timestamp(datetime.datetime.today() - datetime.timedelta(lookahed_days))]\n",
    "        data_training = data[data.index < pd.Timestamp(datetime.datetime.today() - datetime.timedelta(lookahed_days))]\n",
    "\n",
    "        # profitable?\n",
    "        diff = data_lookahed.iloc[-1] - data_training.iloc[-1]\n",
    "        return (data_training,data_lookahed,diff)\n",
    "        \n",
    "    \n",
    "    # ToDo - Make it work for multiple tickers\n",
    "    assert type(ticker) == list\n",
    "    start_ticker = datetime.date.today() - datetime.timedelta(previous_days) - datetime.timedelta(lookahed_days)\n",
    "    end_ticker = datetime.date.today()\n",
    "    data = yf.download(ticker, start=start_ticker, end=end_ticker,group_by=\"ticker\")\n",
    "\n",
    "    if len(ticker)==1:\n",
    "        data_training,data_lookahed,diff = process_single_df(data)\n",
    "        return {'ticker':ticker, \n",
    "                'data_training':data_training,\n",
    "                'data_lookahed':data_lookahed,\n",
    "                'diff':diff}\n",
    "    \n",
    "    else:\n",
    "        for single_ticker in ticker:\n",
    "            print (f'processing {single_ticker}')\n",
    "            data_training,data_lookahed,diff = process_single_df(data[single_ticker])\n",
    "            return {'ticker':single_ticker, \n",
    "                'data_training':data_training,\n",
    "                'data_lookahed':data_lookahed,\n",
    "                'diff':diff}       \n",
    "        \n",
    "    #return (data_training,data_lookahed,diff)"
   ]
  },
  {
   "cell_type": "code",
   "execution_count": 80,
   "metadata": {},
   "outputs": [
    {
     "name": "stdout",
     "output_type": "stream",
     "text": [
      "[*********************100%***********************]  1 of 1 completed\n"
     ]
    },
    {
     "data": {
      "text/plain": [
       "(26, 6)"
      ]
     },
     "execution_count": 80,
     "metadata": {},
     "output_type": "execute_result"
    }
   ],
   "source": [
    "data_training,data_lookahed,diff=get_data_for_ticker('SPY')\n",
    "data.shape"
   ]
  },
  {
   "cell_type": "code",
   "execution_count": 81,
   "metadata": {},
   "outputs": [
    {
     "data": {
      "text/plain": [
       "((22, 6),\n",
       " (4, 6),\n",
       " Open         6.339996e+00\n",
       " High         6.459991e+00\n",
       " Low          7.329987e+00\n",
       " Close        8.340027e+00\n",
       " Adj Close    8.340027e+00\n",
       " Volume      -4.190320e+07\n",
       " dtype: float64)"
      ]
     },
     "execution_count": 81,
     "metadata": {},
     "output_type": "execute_result"
    }
   ],
   "source": [
    "data_training.shape, data_lookahed.shape, diff"
   ]
  },
  {
   "cell_type": "code",
   "execution_count": 82,
   "metadata": {},
   "outputs": [
    {
     "data": {
      "text/html": [
       "<div>\n",
       "<style scoped>\n",
       "    .dataframe tbody tr th:only-of-type {\n",
       "        vertical-align: middle;\n",
       "    }\n",
       "\n",
       "    .dataframe tbody tr th {\n",
       "        vertical-align: top;\n",
       "    }\n",
       "\n",
       "    .dataframe thead th {\n",
       "        text-align: right;\n",
       "    }\n",
       "</style>\n",
       "<table border=\"1\" class=\"dataframe\">\n",
       "  <thead>\n",
       "    <tr style=\"text-align: right;\">\n",
       "      <th></th>\n",
       "      <th>Open</th>\n",
       "      <th>High</th>\n",
       "      <th>Low</th>\n",
       "      <th>Close</th>\n",
       "      <th>Adj Close</th>\n",
       "      <th>Volume</th>\n",
       "    </tr>\n",
       "    <tr>\n",
       "      <th>Date</th>\n",
       "      <th></th>\n",
       "      <th></th>\n",
       "      <th></th>\n",
       "      <th></th>\n",
       "      <th></th>\n",
       "      <th></th>\n",
       "    </tr>\n",
       "  </thead>\n",
       "  <tbody>\n",
       "    <tr>\n",
       "      <th>2020-11-16</th>\n",
       "      <td>360.980011</td>\n",
       "      <td>362.779999</td>\n",
       "      <td>359.589996</td>\n",
       "      <td>362.570007</td>\n",
       "      <td>362.570007</td>\n",
       "      <td>74541100</td>\n",
       "    </tr>\n",
       "    <tr>\n",
       "      <th>2020-11-17</th>\n",
       "      <td>359.970001</td>\n",
       "      <td>361.920013</td>\n",
       "      <td>358.339996</td>\n",
       "      <td>360.619995</td>\n",
       "      <td>360.619995</td>\n",
       "      <td>66111000</td>\n",
       "    </tr>\n",
       "    <tr>\n",
       "      <th>2020-11-18</th>\n",
       "      <td>360.910004</td>\n",
       "      <td>361.500000</td>\n",
       "      <td>356.239990</td>\n",
       "      <td>356.279999</td>\n",
       "      <td>356.279999</td>\n",
       "      <td>70591300</td>\n",
       "    </tr>\n",
       "    <tr>\n",
       "      <th>2020-11-19</th>\n",
       "      <td>355.600006</td>\n",
       "      <td>358.179993</td>\n",
       "      <td>354.149994</td>\n",
       "      <td>357.779999</td>\n",
       "      <td>357.779999</td>\n",
       "      <td>59940900</td>\n",
       "    </tr>\n",
       "    <tr>\n",
       "      <th>2020-11-20</th>\n",
       "      <td>357.500000</td>\n",
       "      <td>357.720001</td>\n",
       "      <td>355.250000</td>\n",
       "      <td>355.329987</td>\n",
       "      <td>355.329987</td>\n",
       "      <td>70417300</td>\n",
       "    </tr>\n",
       "  </tbody>\n",
       "</table>\n",
       "</div>"
      ],
      "text/plain": [
       "                  Open        High         Low       Close   Adj Close  \\\n",
       "Date                                                                     \n",
       "2020-11-16  360.980011  362.779999  359.589996  362.570007  362.570007   \n",
       "2020-11-17  359.970001  361.920013  358.339996  360.619995  360.619995   \n",
       "2020-11-18  360.910004  361.500000  356.239990  356.279999  356.279999   \n",
       "2020-11-19  355.600006  358.179993  354.149994  357.779999  357.779999   \n",
       "2020-11-20  357.500000  357.720001  355.250000  355.329987  355.329987   \n",
       "\n",
       "              Volume  \n",
       "Date                  \n",
       "2020-11-16  74541100  \n",
       "2020-11-17  66111000  \n",
       "2020-11-18  70591300  \n",
       "2020-11-19  59940900  \n",
       "2020-11-20  70417300  "
      ]
     },
     "execution_count": 82,
     "metadata": {},
     "output_type": "execute_result"
    }
   ],
   "source": [
    "data_training.tail(5)"
   ]
  },
  {
   "cell_type": "code",
   "execution_count": 83,
   "metadata": {},
   "outputs": [
    {
     "data": {
      "text/html": [
       "<div>\n",
       "<style scoped>\n",
       "    .dataframe tbody tr th:only-of-type {\n",
       "        vertical-align: middle;\n",
       "    }\n",
       "\n",
       "    .dataframe tbody tr th {\n",
       "        vertical-align: top;\n",
       "    }\n",
       "\n",
       "    .dataframe thead th {\n",
       "        text-align: right;\n",
       "    }\n",
       "</style>\n",
       "<table border=\"1\" class=\"dataframe\">\n",
       "  <thead>\n",
       "    <tr style=\"text-align: right;\">\n",
       "      <th></th>\n",
       "      <th>Open</th>\n",
       "      <th>High</th>\n",
       "      <th>Low</th>\n",
       "      <th>Close</th>\n",
       "      <th>Adj Close</th>\n",
       "      <th>Volume</th>\n",
       "    </tr>\n",
       "    <tr>\n",
       "      <th>Date</th>\n",
       "      <th></th>\n",
       "      <th></th>\n",
       "      <th></th>\n",
       "      <th></th>\n",
       "      <th></th>\n",
       "      <th></th>\n",
       "    </tr>\n",
       "  </thead>\n",
       "  <tbody>\n",
       "    <tr>\n",
       "      <th>2020-11-23</th>\n",
       "      <td>357.279999</td>\n",
       "      <td>358.820007</td>\n",
       "      <td>354.869995</td>\n",
       "      <td>357.459991</td>\n",
       "      <td>357.459991</td>\n",
       "      <td>63230600</td>\n",
       "    </tr>\n",
       "    <tr>\n",
       "      <th>2020-11-24</th>\n",
       "      <td>360.209991</td>\n",
       "      <td>363.809998</td>\n",
       "      <td>359.290009</td>\n",
       "      <td>363.220001</td>\n",
       "      <td>363.220001</td>\n",
       "      <td>62415900</td>\n",
       "    </tr>\n",
       "    <tr>\n",
       "      <th>2020-11-25</th>\n",
       "      <td>363.130005</td>\n",
       "      <td>363.160004</td>\n",
       "      <td>361.480011</td>\n",
       "      <td>362.660004</td>\n",
       "      <td>362.660004</td>\n",
       "      <td>45330900</td>\n",
       "    </tr>\n",
       "    <tr>\n",
       "      <th>2020-11-27</th>\n",
       "      <td>363.839996</td>\n",
       "      <td>364.179993</td>\n",
       "      <td>362.579987</td>\n",
       "      <td>363.670013</td>\n",
       "      <td>363.670013</td>\n",
       "      <td>28514100</td>\n",
       "    </tr>\n",
       "  </tbody>\n",
       "</table>\n",
       "</div>"
      ],
      "text/plain": [
       "                  Open        High         Low       Close   Adj Close  \\\n",
       "Date                                                                     \n",
       "2020-11-23  357.279999  358.820007  354.869995  357.459991  357.459991   \n",
       "2020-11-24  360.209991  363.809998  359.290009  363.220001  363.220001   \n",
       "2020-11-25  363.130005  363.160004  361.480011  362.660004  362.660004   \n",
       "2020-11-27  363.839996  364.179993  362.579987  363.670013  363.670013   \n",
       "\n",
       "              Volume  \n",
       "Date                  \n",
       "2020-11-23  63230600  \n",
       "2020-11-24  62415900  \n",
       "2020-11-25  45330900  \n",
       "2020-11-27  28514100  "
      ]
     },
     "execution_count": 83,
     "metadata": {},
     "output_type": "execute_result"
    }
   ],
   "source": [
    "data_lookahed.head(10)"
   ]
  },
  {
   "cell_type": "code",
   "execution_count": 108,
   "metadata": {},
   "outputs": [],
   "source": [
    "def get_image_for_adj_close():\n",
    "    # get data_training\n",
    "    # get image\n",
    "    # get label\n",
    "    #data_training,data_lookahed,diff=get_data_for_ticker(['SPY'])['data_training']\n",
    "    data_training=get_data_for_ticker(['SPY'])['data_training']\n",
    "    image = get_gamf_from_time_series(data_training['Adj Close'].values)\n",
    "    return image, (True if diff['Adj Close'] > 0 else False)"
   ]
  },
  {
   "cell_type": "code",
   "execution_count": 109,
   "metadata": {},
   "outputs": [
    {
     "name": "stdout",
     "output_type": "stream",
     "text": [
      "[*********************100%***********************]  1 of 1 completed\n"
     ]
    }
   ],
   "source": [
    "im,label = get_image_for_adj_close()"
   ]
  },
  {
   "cell_type": "code",
   "execution_count": 113,
   "metadata": {},
   "outputs": [
    {
     "data": {
      "text/plain": [
       "True"
      ]
     },
     "execution_count": 113,
     "metadata": {},
     "output_type": "execute_result"
    }
   ],
   "source": [
    "label"
   ]
  },
  {
   "cell_type": "code",
   "execution_count": 114,
   "metadata": {},
   "outputs": [],
   "source": [
    "# next steps - get lots of images by varying start_date - then proceed by using this data (maybe 100 images)"
   ]
  }
 ],
 "metadata": {
  "kernelspec": {
   "display_name": "Python 3",
   "language": "python",
   "name": "python3"
  },
  "language_info": {
   "codemirror_mode": {
    "name": "ipython",
    "version": 3
   },
   "file_extension": ".py",
   "mimetype": "text/x-python",
   "name": "python",
   "nbconvert_exporter": "python",
   "pygments_lexer": "ipython3",
   "version": "3.8.5"
  }
 },
 "nbformat": 4,
 "nbformat_minor": 4
}
